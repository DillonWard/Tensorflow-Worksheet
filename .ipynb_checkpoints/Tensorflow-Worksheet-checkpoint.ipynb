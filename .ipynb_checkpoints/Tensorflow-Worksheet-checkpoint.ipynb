{
 "cells": [
  {
   "cell_type": "markdown",
   "metadata": {},
   "source": [
    "# [Problem set: Tensorflow](https://emerging-technologies.github.io/problems/tensorflow.html)\n",
    "\n",
    "#### *Dillon Ward - G00326756 - Emerging Technologies*\n",
    "\n",
    "## Tensorflow\n",
    "### What is Tensorflow?\n",
    "TensorFlow is an open-source software library for dataflow programming across a range of tasks. It is a symbolic math library, and also used for machine learning applications such as neural networks.[[¹]](https://en.wikipedia.org/wiki/TensorFlow)\n",
    "\n",
    "It was originally developed by the Google Brain Team within Google's Machine Intelligence research organization for machine learning and deep neural networks research, but the system is general enough to be applicable in a wide variety of other domains as well.[[²]](https://opensource.com/article/17/11/intro-tensorflow)\n",
    "\n",
    "TensorFlow is cross-platform. It runs on nearly everything: GPUs and CPUs—including mobile and embedded platforms—and even tensor processing units, which are specialized hardware to do tensor math on.[[³]](https://opensource.com/article/17/11/intro-tensorflow)\n",
    "\n",
    "### What is Tensorflow used for?\n",
    "Tensorflow has an multiple uses, such as image recognition, human language, and linear models. See the [Tensorflow Tutorials](https://www.tensorflow.org/tutorials/) for more details.\n",
    "\n",
    "### Use Tensorflow to create a model\n",
    "Use Tensorflow to create a model to predict the species of Iris from a flower’s sepal width, sepal length, petal width, and petal length.\n",
    "\n",
    "#### Imports\n",
    "First, we must import dependencies - including [Keras](https://keras.io/), which is used for running on top of Tensorflow.\n",
    "\n",
    "#### Read in Data\n",
    "Using the `csv` module open the CSV file that contains the data and load in the iris data set"
   ]
  },
  {
   "cell_type": "code",
   "execution_count": 1,
   "metadata": {},
   "outputs": [
    {
     "name": "stderr",
     "output_type": "stream",
     "text": [
      "Using TensorFlow backend.\n"
     ]
    }
   ],
   "source": [
    "# Tensorflow worksheet for training and testing a model to predict the species of an iris\n",
    "# Author: Dillonward2017@gmail.com\n",
    "# Date: 24/10/17\n",
    "# (1) Adapted from - https://github.com/emerging-technologies/keras-iris/blob/master/iris_nn.py\n",
    "\n",
    "import csv\n",
    "import numpy as np\n",
    "import keras as kr\n",
    "\n",
    "# load in the iris data set from a csv file - (1)\n",
    "iris = list(csv.reader(open('./data/fishers-data-set.csv')))[1:]"
   ]
  },
  {
   "cell_type": "markdown",
   "metadata": {},
   "source": [
    "#### Store data set into an array\n",
    "After the data set is read in, the data is split and stored into an array.\n",
    "The input will be the petal/sepal length and width.\n",
    "The output will be the name of the species."
   ]
  },
  {
   "cell_type": "code",
   "execution_count": 3,
   "metadata": {},
   "outputs": [],
   "source": [
    "# sepal and petal length/width are going to be read in as floats\n",
    "inputs  = np.array(iris)[:,:4].astype(np.float)\n",
    "\n",
    "# Outputs are individual strings - setosa, versicolor or virginica\n",
    "outputs = np.array(iris)[:,4]\n",
    "\n",
    "# the output strings are converted to ints\n",
    "outputs_vals, outputs_ints = np.unique(outputs, return_inverse=True)"
   ]
  },
  {
   "cell_type": "markdown",
   "metadata": {},
   "source": [
    "## Split the data into training and testing\n",
    "Split the data set into a training set and a testing set. You should investigate the best way to do this, and list any online references used in your notebook. If you wish to, you can write some code to randomly separate the data on the fly.\n",
    "\n",
    "#### Create the training and test subsets\n",
    "The data that was previously read in will be split into test and training sets for the neural network."
   ]
  },
  {
   "cell_type": "code",
   "execution_count": 4,
   "metadata": {},
   "outputs": [],
   "source": [
    "# Encode the category integers as binary categorical vairables.\n",
    "outputs_cats = kr.utils.to_categorical(outputs_ints)\n",
    "\n",
    "# Split the input and output data sets into training and test subsets.\n",
    "inds = np.random.permutation(len(inputs))\n",
    "train_inds, test_inds = np.array_split(inds, 2)\n",
    "inputs_train, outputs_train = inputs[train_inds], outputs_cats[train_inds]\n",
    "inputs_test,  outputs_test  = inputs[test_inds],  outputs_cats[test_inds]"
   ]
  },
  {
   "cell_type": "markdown",
   "metadata": {},
   "source": [
    "#### Create a Neural Network\n",
    "Create a neural network and add 2 layers with input nodes. The initial layer will contain 4 inputs, and aditional layer containing 16 nodes. The Sigmoid [activation function](https://en.wikipedia.org/wiki/Activation_function) will be added to that layer."
   ]
  },
  {
   "cell_type": "code",
   "execution_count": 5,
   "metadata": {},
   "outputs": [],
   "source": [
    "# create a neural network\n",
    "model = kr.models.Sequential()\n",
    "\n",
    "# add 2 layers with input nodes - an initial layer with 4 input nodes, another hidden layer with 16 nodes\n",
    "model.add(kr.layers.Dense(16, input_shape=(4,)))\n",
    "\n",
    "# apply the sigmoid activation function to that layer\n",
    "model.add(kr.layers.Activation(\"sigmoid\"))\n",
    "\n",
    "# add another layer, connected to the layer with 16 nodes, containing three output nodes\n",
    "model.add(kr.layers.Dense(3))\n",
    "\n",
    "# use the softmax activation function there\n",
    "model.add(kr.layers.Activation(\"softmax\"))"
   ]
  },
  {
   "cell_type": "code",
   "execution_count": null,
   "metadata": {},
   "outputs": [],
   "source": []
  }
 ],
 "metadata": {
  "kernelspec": {
   "display_name": "Python 3",
   "language": "python",
   "name": "python3"
  },
  "language_info": {
   "codemirror_mode": {
    "name": "ipython",
    "version": 3
   },
   "file_extension": ".py",
   "mimetype": "text/x-python",
   "name": "python",
   "nbconvert_exporter": "python",
   "pygments_lexer": "ipython3",
   "version": "3.5.4"
  }
 },
 "nbformat": 4,
 "nbformat_minor": 2
}
