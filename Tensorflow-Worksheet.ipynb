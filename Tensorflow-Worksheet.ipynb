{
 "cells": [
  {
   "cell_type": "markdown",
   "metadata": {},
   "source": [
    "# [Problem set: Tensorflow](https://emerging-technologies.github.io/problems/tensorflow.html)\n",
    "\n",
    "#### *Dillon Ward - G00326756 - Emerging Technologies*\n",
    "\n",
    "## Tensorflow\n",
    "### What is Tensorflow?\n",
    "TensorFlow is an open-source software library for dataflow programming across a range of tasks. It is a symbolic math library, and also used for machine learning applications such as neural networks.[[¹]](https://en.wikipedia.org/wiki/TensorFlow)\n",
    "\n",
    "It was originally developed by the Google Brain Team within Google's Machine Intelligence research organization for machine learning and deep neural networks research, but the system is general enough to be applicable in a wide variety of other domains as well.[[²]](https://opensource.com/article/17/11/intro-tensorflow)\n",
    "\n",
    "TensorFlow is cross-platform. It runs on nearly everything: GPUs and CPUs—including mobile and embedded platforms—and even tensor processing units, which are specialized hardware to do tensor math on.[[³]](https://opensource.com/article/17/11/intro-tensorflow)\n",
    "\n",
    "### What is Tensorflow used for?\n",
    "Tensorflow has an multiple uses, such as image recognition, human language, and linear models. See the [Tensorflow Tutorials](https://www.tensorflow.org/tutorials/) for more details.\n",
    "\n",
    "### Use Tensorflow to create a model\n",
    "Use Tensorflow to create a model to predict the species of Iris from a flower’s sepal width, sepal length, petal width, and petal length.\n",
    "\n",
    "#### Imports\n",
    "First, we must import dependencies - including [Keras](https://keras.io/), which is used for running on top of Tensorflow.\n",
    "\n",
    "#### Read in Data\n",
    "Using the `csv` module open the CSV file that contains the data and load in the iris data set"
   ]
  },
  {
   "cell_type": "code",
   "execution_count": 3,
   "metadata": {},
   "outputs": [],
   "source": [
    "# Tensorflow worksheet for training and testing a model to predict the species of an iris\n",
    "# Author: Dillonward2017@gmail.com\n",
    "# Date: 24/10/17\n",
    "# (1) Adapted from - https://github.com/emerging-technologies/keras-iris/blob/master/iris_nn.py\n",
    "\n",
    "import csv\n",
    "import numpy as np\n",
    "import keras as kr\n",
    "\n",
    "\n",
    "# load in the iris data set from a csv file - (1)\n",
    "iris = list(csv.reader(open('./data/fishers-data-set.csv')))[1:]\n",
    "\n",
    "# sepal and petal length/width are going to be read in as floats\n",
    "inputs  = np.array(iris)[:,:4].astype(np.float)\n",
    "\n",
    "# Outputs are  individual strings - setosa, versicolor or virginica\n",
    "outputs = np.array(iris)[:,4]\n",
    "\n",
    "# the output strings are converted to ints\n",
    "outputs_vals, outputs_ints = np.unique(outputs, return_inverse=True)"
   ]
  },
  {
   "cell_type": "code",
   "execution_count": null,
   "metadata": {},
   "outputs": [],
   "source": []
  }
 ],
 "metadata": {
  "kernelspec": {
   "display_name": "Python 3",
   "language": "python",
   "name": "python3"
  },
  "language_info": {
   "codemirror_mode": {
    "name": "ipython",
    "version": 3
   },
   "file_extension": ".py",
   "mimetype": "text/x-python",
   "name": "python",
   "nbconvert_exporter": "python",
   "pygments_lexer": "ipython3",
   "version": "3.5.4"
  }
 },
 "nbformat": 4,
 "nbformat_minor": 2
}
